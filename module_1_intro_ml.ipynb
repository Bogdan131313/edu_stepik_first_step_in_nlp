{
 "cells": [
  {
   "cell_type": "markdown",
   "metadata": {
    "id": "0-tRk6fdxmB-"
   },
   "source": [
    "В этом домашнем задании вы будете решать задачу классификации оттоковых клиентов телекома: для каждого клиента необходимо определить, перестанет он пользоваться услугами оператора в ближайшее время или нет."
   ]
  },
  {
   "cell_type": "code",
   "execution_count": 1,
   "metadata": {
    "id": "DIjF1xlpwOMd"
   },
   "outputs": [
    {
     "data": {
      "text/html": [
       "<div>\n",
       "<style scoped>\n",
       "    .dataframe tbody tr th:only-of-type {\n",
       "        vertical-align: middle;\n",
       "    }\n",
       "\n",
       "    .dataframe tbody tr th {\n",
       "        vertical-align: top;\n",
       "    }\n",
       "\n",
       "    .dataframe thead th {\n",
       "        text-align: right;\n",
       "    }\n",
       "</style>\n",
       "<table border=\"1\" class=\"dataframe\">\n",
       "  <thead>\n",
       "    <tr style=\"text-align: right;\">\n",
       "      <th></th>\n",
       "      <th>State</th>\n",
       "      <th>Account length</th>\n",
       "      <th>Area code</th>\n",
       "      <th>International plan</th>\n",
       "      <th>Voice mail plan</th>\n",
       "      <th>Number vmail messages</th>\n",
       "      <th>Total day minutes</th>\n",
       "      <th>Total day calls</th>\n",
       "      <th>Total day charge</th>\n",
       "      <th>Total eve minutes</th>\n",
       "      <th>Total eve calls</th>\n",
       "      <th>Total eve charge</th>\n",
       "      <th>Total night minutes</th>\n",
       "      <th>Total night calls</th>\n",
       "      <th>Total night charge</th>\n",
       "      <th>Total intl minutes</th>\n",
       "      <th>Total intl calls</th>\n",
       "      <th>Total intl charge</th>\n",
       "      <th>Customer service calls</th>\n",
       "      <th>Churn</th>\n",
       "    </tr>\n",
       "  </thead>\n",
       "  <tbody>\n",
       "    <tr>\n",
       "      <th>0</th>\n",
       "      <td>KS</td>\n",
       "      <td>128</td>\n",
       "      <td>415</td>\n",
       "      <td>No</td>\n",
       "      <td>Yes</td>\n",
       "      <td>25</td>\n",
       "      <td>265.1</td>\n",
       "      <td>110</td>\n",
       "      <td>45.07</td>\n",
       "      <td>197.4</td>\n",
       "      <td>99</td>\n",
       "      <td>16.78</td>\n",
       "      <td>244.7</td>\n",
       "      <td>91</td>\n",
       "      <td>11.01</td>\n",
       "      <td>10.0</td>\n",
       "      <td>3</td>\n",
       "      <td>2.70</td>\n",
       "      <td>1</td>\n",
       "      <td>False</td>\n",
       "    </tr>\n",
       "    <tr>\n",
       "      <th>1</th>\n",
       "      <td>OH</td>\n",
       "      <td>107</td>\n",
       "      <td>415</td>\n",
       "      <td>No</td>\n",
       "      <td>Yes</td>\n",
       "      <td>26</td>\n",
       "      <td>161.6</td>\n",
       "      <td>123</td>\n",
       "      <td>27.47</td>\n",
       "      <td>195.5</td>\n",
       "      <td>103</td>\n",
       "      <td>16.62</td>\n",
       "      <td>254.4</td>\n",
       "      <td>103</td>\n",
       "      <td>11.45</td>\n",
       "      <td>13.7</td>\n",
       "      <td>3</td>\n",
       "      <td>3.70</td>\n",
       "      <td>1</td>\n",
       "      <td>False</td>\n",
       "    </tr>\n",
       "    <tr>\n",
       "      <th>2</th>\n",
       "      <td>NJ</td>\n",
       "      <td>137</td>\n",
       "      <td>415</td>\n",
       "      <td>No</td>\n",
       "      <td>No</td>\n",
       "      <td>0</td>\n",
       "      <td>243.4</td>\n",
       "      <td>114</td>\n",
       "      <td>41.38</td>\n",
       "      <td>121.2</td>\n",
       "      <td>110</td>\n",
       "      <td>10.30</td>\n",
       "      <td>162.6</td>\n",
       "      <td>104</td>\n",
       "      <td>7.32</td>\n",
       "      <td>12.2</td>\n",
       "      <td>5</td>\n",
       "      <td>3.29</td>\n",
       "      <td>0</td>\n",
       "      <td>False</td>\n",
       "    </tr>\n",
       "    <tr>\n",
       "      <th>3</th>\n",
       "      <td>OH</td>\n",
       "      <td>84</td>\n",
       "      <td>408</td>\n",
       "      <td>Yes</td>\n",
       "      <td>No</td>\n",
       "      <td>0</td>\n",
       "      <td>299.4</td>\n",
       "      <td>71</td>\n",
       "      <td>50.90</td>\n",
       "      <td>61.9</td>\n",
       "      <td>88</td>\n",
       "      <td>5.26</td>\n",
       "      <td>196.9</td>\n",
       "      <td>89</td>\n",
       "      <td>8.86</td>\n",
       "      <td>6.6</td>\n",
       "      <td>7</td>\n",
       "      <td>1.78</td>\n",
       "      <td>2</td>\n",
       "      <td>False</td>\n",
       "    </tr>\n",
       "    <tr>\n",
       "      <th>4</th>\n",
       "      <td>OK</td>\n",
       "      <td>75</td>\n",
       "      <td>415</td>\n",
       "      <td>Yes</td>\n",
       "      <td>No</td>\n",
       "      <td>0</td>\n",
       "      <td>166.7</td>\n",
       "      <td>113</td>\n",
       "      <td>28.34</td>\n",
       "      <td>148.3</td>\n",
       "      <td>122</td>\n",
       "      <td>12.61</td>\n",
       "      <td>186.9</td>\n",
       "      <td>121</td>\n",
       "      <td>8.41</td>\n",
       "      <td>10.1</td>\n",
       "      <td>3</td>\n",
       "      <td>2.73</td>\n",
       "      <td>3</td>\n",
       "      <td>False</td>\n",
       "    </tr>\n",
       "  </tbody>\n",
       "</table>\n",
       "</div>"
      ],
      "text/plain": [
       "  State  Account length  Area code International plan Voice mail plan  \\\n",
       "0    KS             128        415                 No             Yes   \n",
       "1    OH             107        415                 No             Yes   \n",
       "2    NJ             137        415                 No              No   \n",
       "3    OH              84        408                Yes              No   \n",
       "4    OK              75        415                Yes              No   \n",
       "\n",
       "   Number vmail messages  Total day minutes  Total day calls  \\\n",
       "0                     25              265.1              110   \n",
       "1                     26              161.6              123   \n",
       "2                      0              243.4              114   \n",
       "3                      0              299.4               71   \n",
       "4                      0              166.7              113   \n",
       "\n",
       "   Total day charge  Total eve minutes  Total eve calls  Total eve charge  \\\n",
       "0             45.07              197.4               99             16.78   \n",
       "1             27.47              195.5              103             16.62   \n",
       "2             41.38              121.2              110             10.30   \n",
       "3             50.90               61.9               88              5.26   \n",
       "4             28.34              148.3              122             12.61   \n",
       "\n",
       "   Total night minutes  Total night calls  Total night charge  \\\n",
       "0                244.7                 91               11.01   \n",
       "1                254.4                103               11.45   \n",
       "2                162.6                104                7.32   \n",
       "3                196.9                 89                8.86   \n",
       "4                186.9                121                8.41   \n",
       "\n",
       "   Total intl minutes  Total intl calls  Total intl charge  \\\n",
       "0                10.0                 3               2.70   \n",
       "1                13.7                 3               3.70   \n",
       "2                12.2                 5               3.29   \n",
       "3                 6.6                 7               1.78   \n",
       "4                10.1                 3               2.73   \n",
       "\n",
       "   Customer service calls  Churn  \n",
       "0                       1  False  \n",
       "1                       1  False  \n",
       "2                       0  False  \n",
       "3                       2  False  \n",
       "4                       3  False  "
      ]
     },
     "execution_count": 1,
     "metadata": {},
     "output_type": "execute_result"
    }
   ],
   "source": [
    "import pandas as pd\n",
    "import numpy as np\n",
    "\n",
    "df = pd.read_csv(\"https://raw.githubusercontent.com/evgpat/edu_stepik_first_step_in_nlp/main/datasets/telecom_churn.csv\")\n",
    "df.head()"
   ]
  },
  {
   "cell_type": "markdown",
   "metadata": {
    "id": "MT5L6lWZyDkE"
   },
   "source": [
    "Сделаем первичную обработку данных:\n",
    "\n",
    "1) Выбросите колонку State\n",
    "\n",
    "**Вопрос:** сколько столбцов осталось в матрице df?"
   ]
  },
  {
   "cell_type": "code",
   "execution_count": 2,
   "metadata": {
    "id": "OwBZKnk3b8qc"
   },
   "outputs": [],
   "source": [
    "df = df.drop(columns='State')"
   ]
  },
  {
   "cell_type": "code",
   "execution_count": 4,
   "metadata": {},
   "outputs": [
    {
     "data": {
      "text/plain": [
       "19"
      ]
     },
     "execution_count": 4,
     "metadata": {},
     "output_type": "execute_result"
    }
   ],
   "source": [
    "df.shape[1]"
   ]
  },
  {
   "cell_type": "markdown",
   "metadata": {
    "id": "WeIa5cC3b_oE"
   },
   "source": [
    "Сделаем простую кодировку признаков: \n",
    "\n",
    "2) Колонку International plan закодируем следующим образом: \"Yes\" замените на 1, а \"No\" на 0."
   ]
  },
  {
   "cell_type": "code",
   "execution_count": 5,
   "metadata": {
    "id": "7U6J16EVx0iy"
   },
   "outputs": [],
   "source": [
    "df['International plan'] = df['International plan'].map({'Yes' : 1, 'No' : 0})"
   ]
  },
  {
   "cell_type": "markdown",
   "metadata": {
    "id": "-0ElX9hPcMGG"
   },
   "source": [
    "Аналогичным образом закодируйте столбец Voice mail plan."
   ]
  },
  {
   "cell_type": "code",
   "execution_count": 6,
   "metadata": {
    "id": "d2LssBAScPqf"
   },
   "outputs": [],
   "source": [
    "df['Voice mail plan'] = df['Voice mail plan'].map({'Yes' : 1, 'No' : 0})"
   ]
  },
  {
   "cell_type": "markdown",
   "metadata": {
    "id": "10NLyF1VcTkW"
   },
   "source": [
    "3) Переведем целевую переменную (Churn) в числа: True в 1, а False в 0."
   ]
  },
  {
   "cell_type": "code",
   "execution_count": 7,
   "metadata": {
    "id": "klGMs0cCcV5Z"
   },
   "outputs": [],
   "source": [
    "df['Churn'] = df['Churn'].astype(int)"
   ]
  },
  {
   "cell_type": "markdown",
   "metadata": {
    "id": "N2hAu7tmy0Ps"
   },
   "source": [
    "Выведите на экран первые строки измененной таблицы, чтобы проверить, что все преобразования сработали."
   ]
  },
  {
   "cell_type": "code",
   "execution_count": 8,
   "metadata": {
    "id": "lG9oOv0uydW8"
   },
   "outputs": [
    {
     "data": {
      "text/html": [
       "<div>\n",
       "<style scoped>\n",
       "    .dataframe tbody tr th:only-of-type {\n",
       "        vertical-align: middle;\n",
       "    }\n",
       "\n",
       "    .dataframe tbody tr th {\n",
       "        vertical-align: top;\n",
       "    }\n",
       "\n",
       "    .dataframe thead th {\n",
       "        text-align: right;\n",
       "    }\n",
       "</style>\n",
       "<table border=\"1\" class=\"dataframe\">\n",
       "  <thead>\n",
       "    <tr style=\"text-align: right;\">\n",
       "      <th></th>\n",
       "      <th>Account length</th>\n",
       "      <th>Area code</th>\n",
       "      <th>International plan</th>\n",
       "      <th>Voice mail plan</th>\n",
       "      <th>Number vmail messages</th>\n",
       "      <th>Total day minutes</th>\n",
       "      <th>Total day calls</th>\n",
       "      <th>Total day charge</th>\n",
       "      <th>Total eve minutes</th>\n",
       "      <th>Total eve calls</th>\n",
       "      <th>Total eve charge</th>\n",
       "      <th>Total night minutes</th>\n",
       "      <th>Total night calls</th>\n",
       "      <th>Total night charge</th>\n",
       "      <th>Total intl minutes</th>\n",
       "      <th>Total intl calls</th>\n",
       "      <th>Total intl charge</th>\n",
       "      <th>Customer service calls</th>\n",
       "      <th>Churn</th>\n",
       "    </tr>\n",
       "  </thead>\n",
       "  <tbody>\n",
       "    <tr>\n",
       "      <th>0</th>\n",
       "      <td>128</td>\n",
       "      <td>415</td>\n",
       "      <td>0</td>\n",
       "      <td>1</td>\n",
       "      <td>25</td>\n",
       "      <td>265.1</td>\n",
       "      <td>110</td>\n",
       "      <td>45.07</td>\n",
       "      <td>197.4</td>\n",
       "      <td>99</td>\n",
       "      <td>16.78</td>\n",
       "      <td>244.7</td>\n",
       "      <td>91</td>\n",
       "      <td>11.01</td>\n",
       "      <td>10.0</td>\n",
       "      <td>3</td>\n",
       "      <td>2.70</td>\n",
       "      <td>1</td>\n",
       "      <td>0</td>\n",
       "    </tr>\n",
       "    <tr>\n",
       "      <th>1</th>\n",
       "      <td>107</td>\n",
       "      <td>415</td>\n",
       "      <td>0</td>\n",
       "      <td>1</td>\n",
       "      <td>26</td>\n",
       "      <td>161.6</td>\n",
       "      <td>123</td>\n",
       "      <td>27.47</td>\n",
       "      <td>195.5</td>\n",
       "      <td>103</td>\n",
       "      <td>16.62</td>\n",
       "      <td>254.4</td>\n",
       "      <td>103</td>\n",
       "      <td>11.45</td>\n",
       "      <td>13.7</td>\n",
       "      <td>3</td>\n",
       "      <td>3.70</td>\n",
       "      <td>1</td>\n",
       "      <td>0</td>\n",
       "    </tr>\n",
       "    <tr>\n",
       "      <th>2</th>\n",
       "      <td>137</td>\n",
       "      <td>415</td>\n",
       "      <td>0</td>\n",
       "      <td>0</td>\n",
       "      <td>0</td>\n",
       "      <td>243.4</td>\n",
       "      <td>114</td>\n",
       "      <td>41.38</td>\n",
       "      <td>121.2</td>\n",
       "      <td>110</td>\n",
       "      <td>10.30</td>\n",
       "      <td>162.6</td>\n",
       "      <td>104</td>\n",
       "      <td>7.32</td>\n",
       "      <td>12.2</td>\n",
       "      <td>5</td>\n",
       "      <td>3.29</td>\n",
       "      <td>0</td>\n",
       "      <td>0</td>\n",
       "    </tr>\n",
       "  </tbody>\n",
       "</table>\n",
       "</div>"
      ],
      "text/plain": [
       "   Account length  Area code  International plan  Voice mail plan  \\\n",
       "0             128        415                   0                1   \n",
       "1             107        415                   0                1   \n",
       "2             137        415                   0                0   \n",
       "\n",
       "   Number vmail messages  Total day minutes  Total day calls  \\\n",
       "0                     25              265.1              110   \n",
       "1                     26              161.6              123   \n",
       "2                      0              243.4              114   \n",
       "\n",
       "   Total day charge  Total eve minutes  Total eve calls  Total eve charge  \\\n",
       "0             45.07              197.4               99             16.78   \n",
       "1             27.47              195.5              103             16.62   \n",
       "2             41.38              121.2              110             10.30   \n",
       "\n",
       "   Total night minutes  Total night calls  Total night charge  \\\n",
       "0                244.7                 91               11.01   \n",
       "1                254.4                103               11.45   \n",
       "2                162.6                104                7.32   \n",
       "\n",
       "   Total intl minutes  Total intl calls  Total intl charge  \\\n",
       "0                10.0                 3               2.70   \n",
       "1                13.7                 3               3.70   \n",
       "2                12.2                 5               3.29   \n",
       "\n",
       "   Customer service calls  Churn  \n",
       "0                       1      0  \n",
       "1                       1      0  \n",
       "2                       0      0  "
      ]
     },
     "execution_count": 8,
     "metadata": {},
     "output_type": "execute_result"
    }
   ],
   "source": [
    "df.head(3)"
   ]
  },
  {
   "cell_type": "markdown",
   "metadata": {
    "id": "6_y9azfEzBYd"
   },
   "source": [
    "Создайте матрицу объект-признак X и вектор с целевой переменной (Churn) y."
   ]
  },
  {
   "cell_type": "code",
   "execution_count": 9,
   "metadata": {
    "id": "Nd0nCW4eypLE"
   },
   "outputs": [],
   "source": [
    "X_ = df.drop(columns='Churn')\n",
    "y = df.loc[:, 'Churn']"
   ]
  },
  {
   "cell_type": "markdown",
   "metadata": {
    "id": "NEvkoGWw1hFL"
   },
   "source": [
    "Проверьте баланс классов. Является ли выборка сбалансированной?\n",
    "\n",
    "**Вопрос:** сколько объектов относятся к классу 1?"
   ]
  },
  {
   "cell_type": "code",
   "execution_count": 10,
   "metadata": {
    "id": "RpPcEOAm1keZ"
   },
   "outputs": [
    {
     "data": {
      "text/plain": [
       "483"
      ]
     },
     "execution_count": 10,
     "metadata": {},
     "output_type": "execute_result"
    }
   ],
   "source": [
    "y.sum()"
   ]
  },
  {
   "cell_type": "markdown",
   "metadata": {
    "id": "AYFme2HyzQxL"
   },
   "source": [
    "Разбейте данные на тренировочную и тестовую части, размер тестовой части - 30%."
   ]
  },
  {
   "cell_type": "code",
   "execution_count": 14,
   "metadata": {
    "id": "Cj13GmJlzQDS"
   },
   "outputs": [],
   "source": [
    "from sklearn.model_selection import train_test_split\n",
    "\n",
    "X_train, X_test, y_train, y_test = train_test_split(X_, y, test_size=0.3, random_state=42)"
   ]
  },
  {
   "cell_type": "markdown",
   "metadata": {
    "id": "GbuDWle1z2Uh"
   },
   "source": [
    "Для линейных моделей очень важно масштабирование признаков. Поэтому \n",
    "отмасштабируйте признаки при помощи StandardScaler, обучив метод на тренировочных данных и применив его и к трейну, и к тесту.\n",
    "\n",
    "Для восстановления DataFrame-ов из преобразованных объектов используйте код с занятия."
   ]
  },
  {
   "cell_type": "code",
   "execution_count": 11,
   "metadata": {
    "id": "69H1fh7VzaZf"
   },
   "outputs": [],
   "source": [
    "from sklearn.preprocessing import StandardScaler"
   ]
  },
  {
   "cell_type": "code",
   "execution_count": 15,
   "metadata": {},
   "outputs": [
    {
     "data": {
      "text/plain": [
       "StandardScaler()"
      ]
     },
     "execution_count": 15,
     "metadata": {},
     "output_type": "execute_result"
    }
   ],
   "source": [
    "scaler = StandardScaler()\n",
    "scaler.fit(X_train)"
   ]
  },
  {
   "cell_type": "code",
   "execution_count": 16,
   "metadata": {},
   "outputs": [],
   "source": [
    "X_train = pd.DataFrame(data=scaler.transform(X_train), columns=X_train.columns, index=X_train.index)\n",
    "X_test = pd.DataFrame(data=scaler.transform(X_test), columns=X_test.columns, index=X_test.index)"
   ]
  },
  {
   "cell_type": "code",
   "execution_count": 20,
   "metadata": {},
   "outputs": [
    {
     "data": {
      "text/html": [
       "<div>\n",
       "<style scoped>\n",
       "    .dataframe tbody tr th:only-of-type {\n",
       "        vertical-align: middle;\n",
       "    }\n",
       "\n",
       "    .dataframe tbody tr th {\n",
       "        vertical-align: top;\n",
       "    }\n",
       "\n",
       "    .dataframe thead th {\n",
       "        text-align: right;\n",
       "    }\n",
       "</style>\n",
       "<table border=\"1\" class=\"dataframe\">\n",
       "  <thead>\n",
       "    <tr style=\"text-align: right;\">\n",
       "      <th></th>\n",
       "      <th>Account length</th>\n",
       "      <th>Area code</th>\n",
       "      <th>International plan</th>\n",
       "      <th>Voice mail plan</th>\n",
       "      <th>Number vmail messages</th>\n",
       "      <th>Total day minutes</th>\n",
       "      <th>Total day calls</th>\n",
       "      <th>Total day charge</th>\n",
       "      <th>Total eve minutes</th>\n",
       "      <th>Total eve calls</th>\n",
       "      <th>Total eve charge</th>\n",
       "      <th>Total night minutes</th>\n",
       "      <th>Total night calls</th>\n",
       "      <th>Total night charge</th>\n",
       "      <th>Total intl minutes</th>\n",
       "      <th>Total intl calls</th>\n",
       "      <th>Total intl charge</th>\n",
       "      <th>Customer service calls</th>\n",
       "    </tr>\n",
       "  </thead>\n",
       "  <tbody>\n",
       "    <tr>\n",
       "      <th>2016</th>\n",
       "      <td>-0.511937</td>\n",
       "      <td>1.740454</td>\n",
       "      <td>-0.324289</td>\n",
       "      <td>-0.612192</td>\n",
       "      <td>-0.585483</td>\n",
       "      <td>0.410716</td>\n",
       "      <td>0.873749</td>\n",
       "      <td>0.410877</td>\n",
       "      <td>1.167102</td>\n",
       "      <td>-1.646317</td>\n",
       "      <td>1.167733</td>\n",
       "      <td>-0.456961</td>\n",
       "      <td>0.615443</td>\n",
       "      <td>-0.458282</td>\n",
       "      <td>-0.373682</td>\n",
       "      <td>0.226639</td>\n",
       "      <td>-0.379643</td>\n",
       "      <td>1.073319</td>\n",
       "    </tr>\n",
       "    <tr>\n",
       "      <th>1362</th>\n",
       "      <td>-0.939002</td>\n",
       "      <td>1.740454</td>\n",
       "      <td>-0.324289</td>\n",
       "      <td>-0.612192</td>\n",
       "      <td>-0.585483</td>\n",
       "      <td>-0.864713</td>\n",
       "      <td>1.074874</td>\n",
       "      <td>-0.865095</td>\n",
       "      <td>-2.639021</td>\n",
       "      <td>-1.895351</td>\n",
       "      <td>-2.637901</td>\n",
       "      <td>-0.790790</td>\n",
       "      <td>1.075039</td>\n",
       "      <td>-0.789925</td>\n",
       "      <td>-0.122835</td>\n",
       "      <td>-0.997316</td>\n",
       "      <td>-0.127479</td>\n",
       "      <td>1.073319</td>\n",
       "    </tr>\n",
       "    <tr>\n",
       "      <th>2670</th>\n",
       "      <td>0.392435</td>\n",
       "      <td>1.740454</td>\n",
       "      <td>-0.324289</td>\n",
       "      <td>1.633475</td>\n",
       "      <td>0.289180</td>\n",
       "      <td>0.752053</td>\n",
       "      <td>0.370935</td>\n",
       "      <td>0.752000</td>\n",
       "      <td>-0.984185</td>\n",
       "      <td>0.893834</td>\n",
       "      <td>-0.983076</td>\n",
       "      <td>-0.425542</td>\n",
       "      <td>-1.018675</td>\n",
       "      <td>-0.423373</td>\n",
       "      <td>-0.445353</td>\n",
       "      <td>0.634624</td>\n",
       "      <td>-0.446002</td>\n",
       "      <td>0.323378</td>\n",
       "    </tr>\n",
       "  </tbody>\n",
       "</table>\n",
       "</div>"
      ],
      "text/plain": [
       "      Account length  Area code  International plan  Voice mail plan  \\\n",
       "2016       -0.511937   1.740454           -0.324289        -0.612192   \n",
       "1362       -0.939002   1.740454           -0.324289        -0.612192   \n",
       "2670        0.392435   1.740454           -0.324289         1.633475   \n",
       "\n",
       "      Number vmail messages  Total day minutes  Total day calls  \\\n",
       "2016              -0.585483           0.410716         0.873749   \n",
       "1362              -0.585483          -0.864713         1.074874   \n",
       "2670               0.289180           0.752053         0.370935   \n",
       "\n",
       "      Total day charge  Total eve minutes  Total eve calls  Total eve charge  \\\n",
       "2016          0.410877           1.167102        -1.646317          1.167733   \n",
       "1362         -0.865095          -2.639021        -1.895351         -2.637901   \n",
       "2670          0.752000          -0.984185         0.893834         -0.983076   \n",
       "\n",
       "      Total night minutes  Total night calls  Total night charge  \\\n",
       "2016            -0.456961           0.615443           -0.458282   \n",
       "1362            -0.790790           1.075039           -0.789925   \n",
       "2670            -0.425542          -1.018675           -0.423373   \n",
       "\n",
       "      Total intl minutes  Total intl calls  Total intl charge  \\\n",
       "2016           -0.373682          0.226639          -0.379643   \n",
       "1362           -0.122835         -0.997316          -0.127479   \n",
       "2670           -0.445353          0.634624          -0.446002   \n",
       "\n",
       "      Customer service calls  \n",
       "2016                1.073319  \n",
       "1362                1.073319  \n",
       "2670                0.323378  "
      ]
     },
     "execution_count": 20,
     "metadata": {},
     "output_type": "execute_result"
    }
   ],
   "source": [
    "X_train.head(3)"
   ]
  },
  {
   "cell_type": "code",
   "execution_count": 21,
   "metadata": {},
   "outputs": [
    {
     "data": {
      "text/html": [
       "<div>\n",
       "<style scoped>\n",
       "    .dataframe tbody tr th:only-of-type {\n",
       "        vertical-align: middle;\n",
       "    }\n",
       "\n",
       "    .dataframe tbody tr th {\n",
       "        vertical-align: top;\n",
       "    }\n",
       "\n",
       "    .dataframe thead th {\n",
       "        text-align: right;\n",
       "    }\n",
       "</style>\n",
       "<table border=\"1\" class=\"dataframe\">\n",
       "  <thead>\n",
       "    <tr style=\"text-align: right;\">\n",
       "      <th></th>\n",
       "      <th>Account length</th>\n",
       "      <th>Area code</th>\n",
       "      <th>International plan</th>\n",
       "      <th>Voice mail plan</th>\n",
       "      <th>Number vmail messages</th>\n",
       "      <th>Total day minutes</th>\n",
       "      <th>Total day calls</th>\n",
       "      <th>Total day charge</th>\n",
       "      <th>Total eve minutes</th>\n",
       "      <th>Total eve calls</th>\n",
       "      <th>Total eve charge</th>\n",
       "      <th>Total night minutes</th>\n",
       "      <th>Total night calls</th>\n",
       "      <th>Total night charge</th>\n",
       "      <th>Total intl minutes</th>\n",
       "      <th>Total intl calls</th>\n",
       "      <th>Total intl charge</th>\n",
       "      <th>Customer service calls</th>\n",
       "    </tr>\n",
       "  </thead>\n",
       "  <tbody>\n",
       "    <tr>\n",
       "      <th>438</th>\n",
       "      <td>0.317071</td>\n",
       "      <td>1.740454</td>\n",
       "      <td>-0.324289</td>\n",
       "      <td>-0.612192</td>\n",
       "      <td>-0.585483</td>\n",
       "      <td>-0.459145</td>\n",
       "      <td>-0.383285</td>\n",
       "      <td>-0.459202</td>\n",
       "      <td>2.554012</td>\n",
       "      <td>0.296151</td>\n",
       "      <td>2.553707</td>\n",
       "      <td>-0.221317</td>\n",
       "      <td>1.177171</td>\n",
       "      <td>-0.222641</td>\n",
       "      <td>1.167234</td>\n",
       "      <td>-0.589331</td>\n",
       "      <td>1.173159</td>\n",
       "      <td>-0.426563</td>\n",
       "    </tr>\n",
       "    <tr>\n",
       "      <th>2674</th>\n",
       "      <td>-0.838516</td>\n",
       "      <td>-0.515843</td>\n",
       "      <td>-0.324289</td>\n",
       "      <td>-0.612192</td>\n",
       "      <td>-0.585483</td>\n",
       "      <td>-1.301479</td>\n",
       "      <td>0.823467</td>\n",
       "      <td>-1.301214</td>\n",
       "      <td>0.323924</td>\n",
       "      <td>1.192675</td>\n",
       "      <td>0.324097</td>\n",
       "      <td>-0.240954</td>\n",
       "      <td>2.096363</td>\n",
       "      <td>-0.240096</td>\n",
       "      <td>0.916387</td>\n",
       "      <td>0.634624</td>\n",
       "      <td>0.920994</td>\n",
       "      <td>-1.176504</td>\n",
       "    </tr>\n",
       "    <tr>\n",
       "      <th>1345</th>\n",
       "      <td>-0.059751</td>\n",
       "      <td>-0.515843</td>\n",
       "      <td>-0.324289</td>\n",
       "      <td>-0.612192</td>\n",
       "      <td>-0.585483</td>\n",
       "      <td>-3.303627</td>\n",
       "      <td>-5.059450</td>\n",
       "      <td>-3.303691</td>\n",
       "      <td>-0.814761</td>\n",
       "      <td>1.491516</td>\n",
       "      <td>-0.813885</td>\n",
       "      <td>-0.659222</td>\n",
       "      <td>-0.610146</td>\n",
       "      <td>-0.659013</td>\n",
       "      <td>-1.233728</td>\n",
       "      <td>-1.405302</td>\n",
       "      <td>-1.229039</td>\n",
       "      <td>1.823260</td>\n",
       "    </tr>\n",
       "  </tbody>\n",
       "</table>\n",
       "</div>"
      ],
      "text/plain": [
       "      Account length  Area code  International plan  Voice mail plan  \\\n",
       "438         0.317071   1.740454           -0.324289        -0.612192   \n",
       "2674       -0.838516  -0.515843           -0.324289        -0.612192   \n",
       "1345       -0.059751  -0.515843           -0.324289        -0.612192   \n",
       "\n",
       "      Number vmail messages  Total day minutes  Total day calls  \\\n",
       "438               -0.585483          -0.459145        -0.383285   \n",
       "2674              -0.585483          -1.301479         0.823467   \n",
       "1345              -0.585483          -3.303627        -5.059450   \n",
       "\n",
       "      Total day charge  Total eve minutes  Total eve calls  Total eve charge  \\\n",
       "438          -0.459202           2.554012         0.296151          2.553707   \n",
       "2674         -1.301214           0.323924         1.192675          0.324097   \n",
       "1345         -3.303691          -0.814761         1.491516         -0.813885   \n",
       "\n",
       "      Total night minutes  Total night calls  Total night charge  \\\n",
       "438             -0.221317           1.177171           -0.222641   \n",
       "2674            -0.240954           2.096363           -0.240096   \n",
       "1345            -0.659222          -0.610146           -0.659013   \n",
       "\n",
       "      Total intl minutes  Total intl calls  Total intl charge  \\\n",
       "438             1.167234         -0.589331           1.173159   \n",
       "2674            0.916387          0.634624           0.920994   \n",
       "1345           -1.233728         -1.405302          -1.229039   \n",
       "\n",
       "      Customer service calls  \n",
       "438                -0.426563  \n",
       "2674               -1.176504  \n",
       "1345                1.823260  "
      ]
     },
     "execution_count": 21,
     "metadata": {},
     "output_type": "execute_result"
    }
   ],
   "source": [
    "X_test.head(3)"
   ]
  },
  {
   "cell_type": "code",
   "execution_count": 22,
   "metadata": {},
   "outputs": [
    {
     "data": {
      "text/html": [
       "<div>\n",
       "<style scoped>\n",
       "    .dataframe tbody tr th:only-of-type {\n",
       "        vertical-align: middle;\n",
       "    }\n",
       "\n",
       "    .dataframe tbody tr th {\n",
       "        vertical-align: top;\n",
       "    }\n",
       "\n",
       "    .dataframe thead th {\n",
       "        text-align: right;\n",
       "    }\n",
       "</style>\n",
       "<table border=\"1\" class=\"dataframe\">\n",
       "  <thead>\n",
       "    <tr style=\"text-align: right;\">\n",
       "      <th></th>\n",
       "      <th>Account length</th>\n",
       "      <th>Area code</th>\n",
       "      <th>International plan</th>\n",
       "      <th>Voice mail plan</th>\n",
       "      <th>Number vmail messages</th>\n",
       "      <th>Total day minutes</th>\n",
       "      <th>Total day calls</th>\n",
       "      <th>Total day charge</th>\n",
       "      <th>Total eve minutes</th>\n",
       "      <th>Total eve calls</th>\n",
       "      <th>Total eve charge</th>\n",
       "      <th>Total night minutes</th>\n",
       "      <th>Total night calls</th>\n",
       "      <th>Total night charge</th>\n",
       "      <th>Total intl minutes</th>\n",
       "      <th>Total intl calls</th>\n",
       "      <th>Total intl charge</th>\n",
       "      <th>Customer service calls</th>\n",
       "    </tr>\n",
       "  </thead>\n",
       "  <tbody>\n",
       "    <tr>\n",
       "      <th>count</th>\n",
       "      <td>2.333000e+03</td>\n",
       "      <td>2.333000e+03</td>\n",
       "      <td>2.333000e+03</td>\n",
       "      <td>2.333000e+03</td>\n",
       "      <td>2.333000e+03</td>\n",
       "      <td>2.333000e+03</td>\n",
       "      <td>2.333000e+03</td>\n",
       "      <td>2.333000e+03</td>\n",
       "      <td>2.333000e+03</td>\n",
       "      <td>2.333000e+03</td>\n",
       "      <td>2.333000e+03</td>\n",
       "      <td>2.333000e+03</td>\n",
       "      <td>2.333000e+03</td>\n",
       "      <td>2.333000e+03</td>\n",
       "      <td>2.333000e+03</td>\n",
       "      <td>2.333000e+03</td>\n",
       "      <td>2.333000e+03</td>\n",
       "      <td>2.333000e+03</td>\n",
       "    </tr>\n",
       "    <tr>\n",
       "      <th>mean</th>\n",
       "      <td>-1.038365e-16</td>\n",
       "      <td>-7.548850e-16</td>\n",
       "      <td>-3.454397e-16</td>\n",
       "      <td>2.623039e-16</td>\n",
       "      <td>2.050082e-16</td>\n",
       "      <td>7.328519e-17</td>\n",
       "      <td>2.122415e-16</td>\n",
       "      <td>-3.401575e-16</td>\n",
       "      <td>-3.267377e-16</td>\n",
       "      <td>1.066442e-16</td>\n",
       "      <td>5.723859e-16</td>\n",
       "      <td>3.673777e-17</td>\n",
       "      <td>-1.641779e-18</td>\n",
       "      <td>3.331145e-16</td>\n",
       "      <td>-2.046751e-16</td>\n",
       "      <td>3.167443e-16</td>\n",
       "      <td>-6.954479e-16</td>\n",
       "      <td>-2.493600e-17</td>\n",
       "    </tr>\n",
       "    <tr>\n",
       "      <th>std</th>\n",
       "      <td>1.000214e+00</td>\n",
       "      <td>1.000214e+00</td>\n",
       "      <td>1.000214e+00</td>\n",
       "      <td>1.000214e+00</td>\n",
       "      <td>1.000214e+00</td>\n",
       "      <td>1.000214e+00</td>\n",
       "      <td>1.000214e+00</td>\n",
       "      <td>1.000214e+00</td>\n",
       "      <td>1.000214e+00</td>\n",
       "      <td>1.000214e+00</td>\n",
       "      <td>1.000214e+00</td>\n",
       "      <td>1.000214e+00</td>\n",
       "      <td>1.000214e+00</td>\n",
       "      <td>1.000214e+00</td>\n",
       "      <td>1.000214e+00</td>\n",
       "      <td>1.000214e+00</td>\n",
       "      <td>1.000214e+00</td>\n",
       "      <td>1.000214e+00</td>\n",
       "    </tr>\n",
       "    <tr>\n",
       "      <th>min</th>\n",
       "      <td>-2.496533e+00</td>\n",
       "      <td>-6.820960e-01</td>\n",
       "      <td>-3.242891e-01</td>\n",
       "      <td>-6.121920e-01</td>\n",
       "      <td>-5.854825e-01</td>\n",
       "      <td>-3.255914e+00</td>\n",
       "      <td>-3.551009e+00</td>\n",
       "      <td>-3.256193e+00</td>\n",
       "      <td>-3.958950e+00</td>\n",
       "      <td>-4.983377e+00</td>\n",
       "      <td>-3.958979e+00</td>\n",
       "      <td>-3.484990e+00</td>\n",
       "      <td>-3.418787e+00</td>\n",
       "      <td>-3.486704e+00</td>\n",
       "      <td>-3.670526e+00</td>\n",
       "      <td>-1.813287e+00</td>\n",
       "      <td>-3.671052e+00</td>\n",
       "      <td>-1.176504e+00</td>\n",
       "    </tr>\n",
       "    <tr>\n",
       "      <th>25%</th>\n",
       "      <td>-6.877875e-01</td>\n",
       "      <td>-6.820960e-01</td>\n",
       "      <td>-3.242891e-01</td>\n",
       "      <td>-6.121920e-01</td>\n",
       "      <td>-5.854825e-01</td>\n",
       "      <td>-6.738579e-01</td>\n",
       "      <td>-6.346915e-01</td>\n",
       "      <td>-6.740232e-01</td>\n",
       "      <td>-6.807980e-01</td>\n",
       "      <td>-6.501792e-01</td>\n",
       "      <td>-6.817770e-01</td>\n",
       "      <td>-6.670772e-01</td>\n",
       "      <td>-7.122782e-01</td>\n",
       "      <td>-6.677409e-01</td>\n",
       "      <td>-6.245289e-01</td>\n",
       "      <td>-5.893313e-01</td>\n",
       "      <td>-6.185357e-01</td>\n",
       "      <td>-4.265631e-01</td>\n",
       "    </tr>\n",
       "    <tr>\n",
       "      <th>50%</th>\n",
       "      <td>-3.462950e-02</td>\n",
       "      <td>-5.158426e-01</td>\n",
       "      <td>-3.242891e-01</td>\n",
       "      <td>-6.121920e-01</td>\n",
       "      <td>-5.854825e-01</td>\n",
       "      <td>-1.320395e-02</td>\n",
       "      <td>1.896596e-02</td>\n",
       "      <td>-1.336769e-02</td>\n",
       "      <td>8.368249e-04</td>\n",
       "      <td>-2.689955e-03</td>\n",
       "      <td>1.939184e-03</td>\n",
       "      <td>1.040013e-02</td>\n",
       "      <td>2.648525e-03</td>\n",
       "      <td>8.635790e-03</td>\n",
       "      <td>2.050582e-02</td>\n",
       "      <td>-1.813462e-01</td>\n",
       "      <td>1.851113e-02</td>\n",
       "      <td>-4.265631e-01</td>\n",
       "    </tr>\n",
       "    <tr>\n",
       "      <th>75%</th>\n",
       "      <td>6.687715e-01</td>\n",
       "      <td>-5.158426e-01</td>\n",
       "      <td>-3.242891e-01</td>\n",
       "      <td>1.633475e+00</td>\n",
       "      <td>7.993992e-01</td>\n",
       "      <td>6.731420e-01</td>\n",
       "      <td>6.726234e-01</td>\n",
       "      <td>6.731959e-01</td>\n",
       "      <td>6.647413e-01</td>\n",
       "      <td>6.946062e-01</td>\n",
       "      <td>6.647962e-01</td>\n",
       "      <td>6.800227e-01</td>\n",
       "      <td>6.665091e-01</td>\n",
       "      <td>6.806488e-01</td>\n",
       "      <td>6.297053e-01</td>\n",
       "      <td>6.346242e-01</td>\n",
       "      <td>6.290144e-01</td>\n",
       "      <td>3.233779e-01</td>\n",
       "    </tr>\n",
       "    <tr>\n",
       "      <th>max</th>\n",
       "      <td>3.306525e+00</td>\n",
       "      <td>1.740454e+00</td>\n",
       "      <td>3.083668e+00</td>\n",
       "      <td>1.633475e+00</td>\n",
       "      <td>3.131832e+00</td>\n",
       "      <td>3.060672e+00</td>\n",
       "      <td>3.236972e+00</td>\n",
       "      <td>3.061055e+00</td>\n",
       "      <td>3.206097e+00</td>\n",
       "      <td>3.483791e+00</td>\n",
       "      <td>3.204976e+00</td>\n",
       "      <td>3.816055e+00</td>\n",
       "      <td>3.832613e+00</td>\n",
       "      <td>3.813800e+00</td>\n",
       "      <td>3.496526e+00</td>\n",
       "      <td>5.530446e+00</td>\n",
       "      <td>3.495725e+00</td>\n",
       "      <td>5.572965e+00</td>\n",
       "    </tr>\n",
       "  </tbody>\n",
       "</table>\n",
       "</div>"
      ],
      "text/plain": [
       "       Account length     Area code  International plan  Voice mail plan  \\\n",
       "count    2.333000e+03  2.333000e+03        2.333000e+03     2.333000e+03   \n",
       "mean    -1.038365e-16 -7.548850e-16       -3.454397e-16     2.623039e-16   \n",
       "std      1.000214e+00  1.000214e+00        1.000214e+00     1.000214e+00   \n",
       "min     -2.496533e+00 -6.820960e-01       -3.242891e-01    -6.121920e-01   \n",
       "25%     -6.877875e-01 -6.820960e-01       -3.242891e-01    -6.121920e-01   \n",
       "50%     -3.462950e-02 -5.158426e-01       -3.242891e-01    -6.121920e-01   \n",
       "75%      6.687715e-01 -5.158426e-01       -3.242891e-01     1.633475e+00   \n",
       "max      3.306525e+00  1.740454e+00        3.083668e+00     1.633475e+00   \n",
       "\n",
       "       Number vmail messages  Total day minutes  Total day calls  \\\n",
       "count           2.333000e+03       2.333000e+03     2.333000e+03   \n",
       "mean            2.050082e-16       7.328519e-17     2.122415e-16   \n",
       "std             1.000214e+00       1.000214e+00     1.000214e+00   \n",
       "min            -5.854825e-01      -3.255914e+00    -3.551009e+00   \n",
       "25%            -5.854825e-01      -6.738579e-01    -6.346915e-01   \n",
       "50%            -5.854825e-01      -1.320395e-02     1.896596e-02   \n",
       "75%             7.993992e-01       6.731420e-01     6.726234e-01   \n",
       "max             3.131832e+00       3.060672e+00     3.236972e+00   \n",
       "\n",
       "       Total day charge  Total eve minutes  Total eve calls  Total eve charge  \\\n",
       "count      2.333000e+03       2.333000e+03     2.333000e+03      2.333000e+03   \n",
       "mean      -3.401575e-16      -3.267377e-16     1.066442e-16      5.723859e-16   \n",
       "std        1.000214e+00       1.000214e+00     1.000214e+00      1.000214e+00   \n",
       "min       -3.256193e+00      -3.958950e+00    -4.983377e+00     -3.958979e+00   \n",
       "25%       -6.740232e-01      -6.807980e-01    -6.501792e-01     -6.817770e-01   \n",
       "50%       -1.336769e-02       8.368249e-04    -2.689955e-03      1.939184e-03   \n",
       "75%        6.731959e-01       6.647413e-01     6.946062e-01      6.647962e-01   \n",
       "max        3.061055e+00       3.206097e+00     3.483791e+00      3.204976e+00   \n",
       "\n",
       "       Total night minutes  Total night calls  Total night charge  \\\n",
       "count         2.333000e+03       2.333000e+03        2.333000e+03   \n",
       "mean          3.673777e-17      -1.641779e-18        3.331145e-16   \n",
       "std           1.000214e+00       1.000214e+00        1.000214e+00   \n",
       "min          -3.484990e+00      -3.418787e+00       -3.486704e+00   \n",
       "25%          -6.670772e-01      -7.122782e-01       -6.677409e-01   \n",
       "50%           1.040013e-02       2.648525e-03        8.635790e-03   \n",
       "75%           6.800227e-01       6.665091e-01        6.806488e-01   \n",
       "max           3.816055e+00       3.832613e+00        3.813800e+00   \n",
       "\n",
       "       Total intl minutes  Total intl calls  Total intl charge  \\\n",
       "count        2.333000e+03      2.333000e+03       2.333000e+03   \n",
       "mean        -2.046751e-16      3.167443e-16      -6.954479e-16   \n",
       "std          1.000214e+00      1.000214e+00       1.000214e+00   \n",
       "min         -3.670526e+00     -1.813287e+00      -3.671052e+00   \n",
       "25%         -6.245289e-01     -5.893313e-01      -6.185357e-01   \n",
       "50%          2.050582e-02     -1.813462e-01       1.851113e-02   \n",
       "75%          6.297053e-01      6.346242e-01       6.290144e-01   \n",
       "max          3.496526e+00      5.530446e+00       3.495725e+00   \n",
       "\n",
       "       Customer service calls  \n",
       "count            2.333000e+03  \n",
       "mean            -2.493600e-17  \n",
       "std              1.000214e+00  \n",
       "min             -1.176504e+00  \n",
       "25%             -4.265631e-01  \n",
       "50%             -4.265631e-01  \n",
       "75%              3.233779e-01  \n",
       "max              5.572965e+00  "
      ]
     },
     "execution_count": 22,
     "metadata": {},
     "output_type": "execute_result"
    }
   ],
   "source": [
    "X_train.describe()"
   ]
  },
  {
   "cell_type": "code",
   "execution_count": 23,
   "metadata": {},
   "outputs": [
    {
     "data": {
      "text/html": [
       "<div>\n",
       "<style scoped>\n",
       "    .dataframe tbody tr th:only-of-type {\n",
       "        vertical-align: middle;\n",
       "    }\n",
       "\n",
       "    .dataframe tbody tr th {\n",
       "        vertical-align: top;\n",
       "    }\n",
       "\n",
       "    .dataframe thead th {\n",
       "        text-align: right;\n",
       "    }\n",
       "</style>\n",
       "<table border=\"1\" class=\"dataframe\">\n",
       "  <thead>\n",
       "    <tr style=\"text-align: right;\">\n",
       "      <th></th>\n",
       "      <th>Account length</th>\n",
       "      <th>Area code</th>\n",
       "      <th>International plan</th>\n",
       "      <th>Voice mail plan</th>\n",
       "      <th>Number vmail messages</th>\n",
       "      <th>Total day minutes</th>\n",
       "      <th>Total day calls</th>\n",
       "      <th>Total day charge</th>\n",
       "      <th>Total eve minutes</th>\n",
       "      <th>Total eve calls</th>\n",
       "      <th>Total eve charge</th>\n",
       "      <th>Total night minutes</th>\n",
       "      <th>Total night calls</th>\n",
       "      <th>Total night charge</th>\n",
       "      <th>Total intl minutes</th>\n",
       "      <th>Total intl calls</th>\n",
       "      <th>Total intl charge</th>\n",
       "      <th>Customer service calls</th>\n",
       "    </tr>\n",
       "  </thead>\n",
       "  <tbody>\n",
       "    <tr>\n",
       "      <th>count</th>\n",
       "      <td>1000.000000</td>\n",
       "      <td>1000.000000</td>\n",
       "      <td>1000.000000</td>\n",
       "      <td>1000.000000</td>\n",
       "      <td>1000.000000</td>\n",
       "      <td>1000.000000</td>\n",
       "      <td>1000.000000</td>\n",
       "      <td>1000.000000</td>\n",
       "      <td>1000.000000</td>\n",
       "      <td>1000.000000</td>\n",
       "      <td>1000.000000</td>\n",
       "      <td>1000.000000</td>\n",
       "      <td>1000.000000</td>\n",
       "      <td>1000.000000</td>\n",
       "      <td>1000.000000</td>\n",
       "      <td>1000.000000</td>\n",
       "      <td>1000.000000</td>\n",
       "      <td>1000.000000</td>\n",
       "    </tr>\n",
       "    <tr>\n",
       "      <th>mean</th>\n",
       "      <td>0.057466</td>\n",
       "      <td>0.036665</td>\n",
       "      <td>0.019915</td>\n",
       "      <td>0.030069</td>\n",
       "      <td>0.016139</td>\n",
       "      <td>-0.014949</td>\n",
       "      <td>-0.031366</td>\n",
       "      <td>-0.014941</td>\n",
       "      <td>0.001499</td>\n",
       "      <td>0.010011</td>\n",
       "      <td>0.001473</td>\n",
       "      <td>0.013198</td>\n",
       "      <td>0.027160</td>\n",
       "      <td>0.013257</td>\n",
       "      <td>-0.006550</td>\n",
       "      <td>0.047534</td>\n",
       "      <td>-0.006506</td>\n",
       "      <td>-0.014845</td>\n",
       "    </tr>\n",
       "    <tr>\n",
       "      <th>std</th>\n",
       "      <td>1.000143</td>\n",
       "      <td>1.020527</td>\n",
       "      <td>1.027429</td>\n",
       "      <td>1.015301</td>\n",
       "      <td>0.992298</td>\n",
       "      <td>0.998447</td>\n",
       "      <td>1.029705</td>\n",
       "      <td>0.998448</td>\n",
       "      <td>0.996942</td>\n",
       "      <td>0.973989</td>\n",
       "      <td>0.996913</td>\n",
       "      <td>0.976801</td>\n",
       "      <td>0.997386</td>\n",
       "      <td>0.976826</td>\n",
       "      <td>1.001529</td>\n",
       "      <td>1.012958</td>\n",
       "      <td>1.001294</td>\n",
       "      <td>0.954289</td>\n",
       "    </tr>\n",
       "    <tr>\n",
       "      <th>min</th>\n",
       "      <td>-2.496533</td>\n",
       "      <td>-0.682096</td>\n",
       "      <td>-0.324289</td>\n",
       "      <td>-0.612192</td>\n",
       "      <td>-0.585483</td>\n",
       "      <td>-3.303627</td>\n",
       "      <td>-5.059450</td>\n",
       "      <td>-3.303691</td>\n",
       "      <td>-3.344296</td>\n",
       "      <td>-2.692261</td>\n",
       "      <td>-3.344794</td>\n",
       "      <td>-3.082431</td>\n",
       "      <td>-3.265588</td>\n",
       "      <td>-3.080878</td>\n",
       "      <td>-3.670526</td>\n",
       "      <td>-1.813287</td>\n",
       "      <td>-3.671052</td>\n",
       "      <td>-1.176504</td>\n",
       "    </tr>\n",
       "    <tr>\n",
       "      <th>25%</th>\n",
       "      <td>-0.587302</td>\n",
       "      <td>-0.515843</td>\n",
       "      <td>-0.324289</td>\n",
       "      <td>-0.612192</td>\n",
       "      <td>-0.585483</td>\n",
       "      <td>-0.647248</td>\n",
       "      <td>-0.735254</td>\n",
       "      <td>-0.647036</td>\n",
       "      <td>-0.667500</td>\n",
       "      <td>-0.650179</td>\n",
       "      <td>-0.667871</td>\n",
       "      <td>-0.636149</td>\n",
       "      <td>-0.610146</td>\n",
       "      <td>-0.635013</td>\n",
       "      <td>-0.633488</td>\n",
       "      <td>-0.589331</td>\n",
       "      <td>-0.628490</td>\n",
       "      <td>-0.426563</td>\n",
       "    </tr>\n",
       "    <tr>\n",
       "      <th>50%</th>\n",
       "      <td>0.065856</td>\n",
       "      <td>-0.515843</td>\n",
       "      <td>-0.324289</td>\n",
       "      <td>-0.612192</td>\n",
       "      <td>-0.585483</td>\n",
       "      <td>0.000560</td>\n",
       "      <td>-0.031315</td>\n",
       "      <td>0.000666</td>\n",
       "      <td>0.028417</td>\n",
       "      <td>0.047117</td>\n",
       "      <td>0.027434</td>\n",
       "      <td>0.008436</td>\n",
       "      <td>0.002649</td>\n",
       "      <td>0.008636</td>\n",
       "      <td>0.020506</td>\n",
       "      <td>-0.181346</td>\n",
       "      <td>0.018511</td>\n",
       "      <td>-0.426563</td>\n",
       "    </tr>\n",
       "    <tr>\n",
       "      <th>75%</th>\n",
       "      <td>0.668771</td>\n",
       "      <td>1.740454</td>\n",
       "      <td>-0.324289</td>\n",
       "      <td>1.633475</td>\n",
       "      <td>0.945176</td>\n",
       "      <td>0.660296</td>\n",
       "      <td>0.672623</td>\n",
       "      <td>0.660242</td>\n",
       "      <td>0.702665</td>\n",
       "      <td>0.644799</td>\n",
       "      <td>0.702459</td>\n",
       "      <td>0.683459</td>\n",
       "      <td>0.666509</td>\n",
       "      <td>0.682831</td>\n",
       "      <td>0.701376</td>\n",
       "      <td>0.634624</td>\n",
       "      <td>0.695373</td>\n",
       "      <td>0.323378</td>\n",
       "    </tr>\n",
       "    <tr>\n",
       "      <th>max</th>\n",
       "      <td>3.582861</td>\n",
       "      <td>1.740454</td>\n",
       "      <td>3.083668</td>\n",
       "      <td>1.633475</td>\n",
       "      <td>2.767389</td>\n",
       "      <td>3.134078</td>\n",
       "      <td>3.136409</td>\n",
       "      <td>3.134462</td>\n",
       "      <td>2.764807</td>\n",
       "      <td>3.184950</td>\n",
       "      <td>2.764616</td>\n",
       "      <td>3.279965</td>\n",
       "      <td>3.373018</td>\n",
       "      <td>3.281426</td>\n",
       "      <td>3.102339</td>\n",
       "      <td>6.346416</td>\n",
       "      <td>3.097571</td>\n",
       "      <td>4.073083</td>\n",
       "    </tr>\n",
       "  </tbody>\n",
       "</table>\n",
       "</div>"
      ],
      "text/plain": [
       "       Account length    Area code  International plan  Voice mail plan  \\\n",
       "count     1000.000000  1000.000000         1000.000000      1000.000000   \n",
       "mean         0.057466     0.036665            0.019915         0.030069   \n",
       "std          1.000143     1.020527            1.027429         1.015301   \n",
       "min         -2.496533    -0.682096           -0.324289        -0.612192   \n",
       "25%         -0.587302    -0.515843           -0.324289        -0.612192   \n",
       "50%          0.065856    -0.515843           -0.324289        -0.612192   \n",
       "75%          0.668771     1.740454           -0.324289         1.633475   \n",
       "max          3.582861     1.740454            3.083668         1.633475   \n",
       "\n",
       "       Number vmail messages  Total day minutes  Total day calls  \\\n",
       "count            1000.000000        1000.000000      1000.000000   \n",
       "mean                0.016139          -0.014949        -0.031366   \n",
       "std                 0.992298           0.998447         1.029705   \n",
       "min                -0.585483          -3.303627        -5.059450   \n",
       "25%                -0.585483          -0.647248        -0.735254   \n",
       "50%                -0.585483           0.000560        -0.031315   \n",
       "75%                 0.945176           0.660296         0.672623   \n",
       "max                 2.767389           3.134078         3.136409   \n",
       "\n",
       "       Total day charge  Total eve minutes  Total eve calls  Total eve charge  \\\n",
       "count       1000.000000        1000.000000      1000.000000       1000.000000   \n",
       "mean          -0.014941           0.001499         0.010011          0.001473   \n",
       "std            0.998448           0.996942         0.973989          0.996913   \n",
       "min           -3.303691          -3.344296        -2.692261         -3.344794   \n",
       "25%           -0.647036          -0.667500        -0.650179         -0.667871   \n",
       "50%            0.000666           0.028417         0.047117          0.027434   \n",
       "75%            0.660242           0.702665         0.644799          0.702459   \n",
       "max            3.134462           2.764807         3.184950          2.764616   \n",
       "\n",
       "       Total night minutes  Total night calls  Total night charge  \\\n",
       "count          1000.000000        1000.000000         1000.000000   \n",
       "mean              0.013198           0.027160            0.013257   \n",
       "std               0.976801           0.997386            0.976826   \n",
       "min              -3.082431          -3.265588           -3.080878   \n",
       "25%              -0.636149          -0.610146           -0.635013   \n",
       "50%               0.008436           0.002649            0.008636   \n",
       "75%               0.683459           0.666509            0.682831   \n",
       "max               3.279965           3.373018            3.281426   \n",
       "\n",
       "       Total intl minutes  Total intl calls  Total intl charge  \\\n",
       "count         1000.000000       1000.000000        1000.000000   \n",
       "mean            -0.006550          0.047534          -0.006506   \n",
       "std              1.001529          1.012958           1.001294   \n",
       "min             -3.670526         -1.813287          -3.671052   \n",
       "25%             -0.633488         -0.589331          -0.628490   \n",
       "50%              0.020506         -0.181346           0.018511   \n",
       "75%              0.701376          0.634624           0.695373   \n",
       "max              3.102339          6.346416           3.097571   \n",
       "\n",
       "       Customer service calls  \n",
       "count             1000.000000  \n",
       "mean                -0.014845  \n",
       "std                  0.954289  \n",
       "min                 -1.176504  \n",
       "25%                 -0.426563  \n",
       "50%                 -0.426563  \n",
       "75%                  0.323378  \n",
       "max                  4.073083  "
      ]
     },
     "execution_count": 23,
     "metadata": {},
     "output_type": "execute_result"
    }
   ],
   "source": [
    "X_test.describe()"
   ]
  },
  {
   "cell_type": "markdown",
   "metadata": {
    "id": "253CDINX1TmR"
   },
   "source": [
    "Обучите на тренировочных данных с параметрами по умолчанию:\n",
    "\n",
    "1) Логистическую регрессию\n",
    "\n",
    "2) Метод ближайших соседей"
   ]
  },
  {
   "cell_type": "code",
   "execution_count": 24,
   "metadata": {
    "id": "GsQW48lf1SxJ"
   },
   "outputs": [],
   "source": [
    "from sklearn.linear_model import LogisticRegression\n",
    "from sklearn.neighbors import KNeighborsClassifier"
   ]
  },
  {
   "cell_type": "code",
   "execution_count": 25,
   "metadata": {},
   "outputs": [],
   "source": [
    "model_lr = LogisticRegression()"
   ]
  },
  {
   "cell_type": "code",
   "execution_count": 26,
   "metadata": {},
   "outputs": [
    {
     "data": {
      "text/plain": [
       "LogisticRegression()"
      ]
     },
     "execution_count": 26,
     "metadata": {},
     "output_type": "execute_result"
    }
   ],
   "source": [
    "model_lr.fit(X_train, y_train)"
   ]
  },
  {
   "cell_type": "code",
   "execution_count": 27,
   "metadata": {},
   "outputs": [],
   "source": [
    "model_knc = KNeighborsClassifier()"
   ]
  },
  {
   "cell_type": "code",
   "execution_count": 28,
   "metadata": {},
   "outputs": [
    {
     "data": {
      "text/plain": [
       "KNeighborsClassifier()"
      ]
     },
     "execution_count": 28,
     "metadata": {},
     "output_type": "execute_result"
    }
   ],
   "source": [
    "model_knc.fit(X_train, y_train)"
   ]
  },
  {
   "cell_type": "code",
   "execution_count": 34,
   "metadata": {},
   "outputs": [],
   "source": [
    "prediction_test_lr = model_lr.predict_proba(X_test)\n",
    "prediction_test_knc = model_knc.predict_proba(X_test)"
   ]
  },
  {
   "cell_type": "markdown",
   "metadata": {
    "id": "HZszTXSb110B"
   },
   "source": [
    "С помощью обученных моделей сделайте предсказание на тестовых данных. Вычислите значение метрики roc-auc на тесте. \n",
    "\n",
    "Не забудьте, что для корректного вычисления roc-auc необходимо предсказывать не сами классы, а их вероятности.\n",
    "\n",
    "**Вопрос:** чему равен ROC-AUC логистической регрессии, округленный до десятых?"
   ]
  },
  {
   "cell_type": "code",
   "execution_count": 70,
   "metadata": {
    "id": "W9IUlgV011PP"
   },
   "outputs": [],
   "source": [
    "from sklearn.metrics import roc_auc_score"
   ]
  },
  {
   "cell_type": "code",
   "execution_count": 45,
   "metadata": {},
   "outputs": [
    {
     "data": {
      "text/plain": [
       "(0.828242935594161, 0.8436324468996581)"
      ]
     },
     "execution_count": 45,
     "metadata": {},
     "output_type": "execute_result"
    }
   ],
   "source": [
    "roc_auc_score(y_test, [s[1] for s in prediction_test_lr]), roc_auc_score(y_test, [s[1] for s in prediction_test_knc])"
   ]
  },
  {
   "cell_type": "markdown",
   "metadata": {
    "id": "Bof-nFO-3pp7"
   },
   "source": [
    "## Бонус. Подбор гиперпараметров модели.\n",
    "\n",
    "У моделей машинного обучения есть гиперпараметры - это величины, которые задает человек до начала обучения моделей. Подбор гиперпараметров может значительно влиять на качество моделей.\n",
    "\n",
    "Про эту тему можно посмотреть [на Stepik](https://stepik.org/lesson/806516/step/4?unit=809692).\n",
    "\n",
    "Теперь ваша цель - максимально улучшить модели. Для этого:\n",
    "\n",
    "1) у логистической регрессии подберите гиперпараметр С (переберите 20 значений C в диапазоне от 0.1 до 10 с равным шагом).\n",
    "\n",
    "2) у метода ближайших соседей подберите число соседей n_neighbors (ищите значение гиперпараметра в диапазоне от 1 до 20 с шагом 1).\n",
    "\n",
    "Подбор гиперпараметров осуществляется только по тренировочным данным!"
   ]
  },
  {
   "cell_type": "markdown",
   "metadata": {
    "id": "fOpaM-hq44uW"
   },
   "source": [
    "После подбора гиперпараметров обучите модели с найденными гиперпараметрами на тренировочных данных, сделайте предсказания на тесте и оцените их качество (roc_auc)."
   ]
  },
  {
   "cell_type": "code",
   "execution_count": 82,
   "metadata": {
    "id": "hk9rxc993bRu"
   },
   "outputs": [],
   "source": [
    "result_list_lr = []\n",
    "for C in np.linspace(0.1, 10, 20):\n",
    "    model_lr = LogisticRegression(C=C)\n",
    "    model_lr.fit(X_train, y_train)\n",
    "    prediction = model_lr.predict_proba(X_test)\n",
    "    score = roc_auc_score(y_test, [s[1] for s in prediction])\n",
    "    result_list_lr.append((C, score))"
   ]
  },
  {
   "cell_type": "code",
   "execution_count": 100,
   "metadata": {},
   "outputs": [],
   "source": [
    "best_c_lr, best_score_lr = sorted(result_list_lr, key=lambda x: x[1], reverse=True)[0]"
   ]
  },
  {
   "cell_type": "code",
   "execution_count": 84,
   "metadata": {},
   "outputs": [],
   "source": [
    "result_list_knc = []\n",
    "for n in range(1,21,1):\n",
    "    model_knc = KNeighborsClassifier(n_neighbors=n)\n",
    "    model_knc.fit(X_train, y_train)\n",
    "    prediction = model_knc.predict_proba(X_test)\n",
    "    score = roc_auc_score(y_test, [s[1] for s in prediction])\n",
    "    result_list_knc.append((n, score))"
   ]
  },
  {
   "cell_type": "code",
   "execution_count": 101,
   "metadata": {},
   "outputs": [],
   "source": [
    "best_n_knc, best_score_knc = sorted(result_list_knc, key=lambda x: x[1], reverse=True)[0]"
   ]
  },
  {
   "cell_type": "markdown",
   "metadata": {
    "id": "LJdQGP5B6UuT"
   },
   "source": [
    "Какая модель справилась с решением задачи лучше всего по метрике roc_auc?"
   ]
  },
  {
   "cell_type": "markdown",
   "metadata": {
    "id": "9QqqeHyP6Y4o"
   },
   "source": [
    "Нарисуйте roc-кривую для наилучшей модели."
   ]
  },
  {
   "cell_type": "code",
   "execution_count": 96,
   "metadata": {
    "id": "xzrjnbQB6YMA"
   },
   "outputs": [],
   "source": [
    "import scikitplot as skplt\n",
    "import matplotlib.pyplot as plt"
   ]
  },
  {
   "cell_type": "markdown",
   "metadata": {
    "id": "mKaWSPa_6vvk"
   },
   "source": [
    "Сравните между собой две лучшие модели:\n",
    "\n",
    "1) насколько сильно отличается качество предсказания на тестовых данных?\n",
    "(вычислите разность значений roc-auc на тестовых данных)\n",
    "\n",
    "2) постройте гистограмму важности признаков для логистической регрессии. Какие три признака наиболее важны для модели?"
   ]
  },
  {
   "cell_type": "code",
   "execution_count": 98,
   "metadata": {},
   "outputs": [
    {
     "name": "stderr",
     "output_type": "stream",
     "text": [
      "D:\\anaconda3\\lib\\site-packages\\sklearn\\utils\\deprecation.py:86: FutureWarning: Function plot_roc_curve is deprecated; This will be removed in v0.5.0. Please use scikitplot.metrics.plot_roc instead.\n",
      "  warnings.warn(msg, category=FutureWarning)\n"
     ]
    },
    {
     "data": {
      "image/png": "[encoded data removed]",
      "text/plain": [
       "<Figure size 432x288 with 1 Axes>"
      ]
     },
     "metadata": {
      "needs_background": "light"
     },
     "output_type": "display_data"
    }
   ],
   "source": [
    "model_lr = LogisticRegression(C=best_c_lr)\n",
    "model_lr.fit(X_train, y_train)\n",
    "prediction_lr = model_lr.predict_proba(X_test)\n",
    "\n",
    "y_true = y_test\n",
    "y_probas = prediction_lr\n",
    "skplt.metrics.plot_roc_curve(y_true, y_probas)\n",
    "plt.show()"
   ]
  },
  {
   "cell_type": "code",
   "execution_count": 102,
   "metadata": {
    "id": "cc0q1_XL7QT0"
   },
   "outputs": [
    {
     "name": "stderr",
     "output_type": "stream",
     "text": [
      "D:\\anaconda3\\lib\\site-packages\\sklearn\\utils\\deprecation.py:86: FutureWarning: Function plot_roc_curve is deprecated; This will be removed in v0.5.0. Please use scikitplot.metrics.plot_roc instead.\n",
      "  warnings.warn(msg, category=FutureWarning)\n"
     ]
    },
    {
     "data": {
      "image/png": "[encoded data removed]",
      "text/plain": [
       "<Figure size 432x288 with 1 Axes>"
      ]
     },
     "metadata": {
      "needs_background": "light"
     },
     "output_type": "display_data"
    }
   ],
   "source": [
    "model_knc = KNeighborsClassifier(n_neighbors=best_n_knc)\n",
    "model_knc.fit(X_train, y_train)\n",
    "prediction_knc = model_knc.predict_proba(X_test)\n",
    "\n",
    "y_true = y_test\n",
    "y_probas = prediction_knc\n",
    "skplt.metrics.plot_roc_curve(y_true, y_probas)\n",
    "plt.show()"
   ]
  },
  {
   "cell_type": "code",
   "execution_count": 138,
   "metadata": {},
   "outputs": [],
   "source": [
    "import seaborn as sns"
   ]
  },
  {
   "cell_type": "code",
   "execution_count": null,
   "metadata": {},
   "outputs": [],
   "source": [
    "importance_lr = sorted(list(zip(model_lr.coef_[0], X_train.columns)), key=lambda x:x[0], reverse=True)"
   ]
  },
  {
   "cell_type": "code",
   "execution_count": 156,
   "metadata": {},
   "outputs": [
    {
     "data": {
      "image/png": "[encoded data removed]",
      "text/plain": [
       "<Figure size 720x576 with 1 Axes>"
      ]
     },
     "metadata": {
      "needs_background": "light"
     },
     "output_type": "display_data"
    }
   ],
   "source": [
    "plt.figure(figsize=(10,8))\n",
    "sns.barplot(y=[i[1] for i in importance_lr], x=[i[0] for i in importance_lr], orient=\"h\")\n",
    "plt.show()"
   ]
  },
  {
   "cell_type": "markdown",
   "metadata": {
    "id": "ZgRif5m1jISs"
   },
   "source": [
    "Так можно строить гистограмму"
   ]
  },
  {
   "cell_type": "code",
   "execution_count": null,
   "metadata": {
    "id": "lz_y6FjJ7Kol"
   },
   "outputs": [],
   "source": [
    "features = X.columns\n",
    "importances = np.abs(lr.coef_[0])\n",
    "indices = np.argsort(importances)\n",
    "\n",
    "plt.title('Feature Importances of LogisticRegression')\n",
    "plt.barh(range(len(indices)), importances[indices], color='b', align='center')\n",
    "plt.yticks(range(len(indices)), [features[i] for i in indices])\n",
    "plt.xlabel('Relative Importance')\n",
    "plt.show()"
   ]
  },
  {
   "cell_type": "markdown",
   "metadata": {
    "id": "beRXM0lT8MUp"
   },
   "source": [
    "Сделайте выводы:\n",
    "\n",
    "1) Являются ли данные сбалансированными? Что это означает?\n",
    "\n",
    "2) Какая модель после подбора гиперпараметров лучше всего решает задачу с точки зрения метрики roc-auc?"
   ]
  }
 ],
 "metadata": {
  "colab": {
   "provenance": []
  },
  "kernelspec": {
   "display_name": "Python 3 (ipykernel)",
   "language": "python",
   "name": "python3"
  },
  "language_info": {
   "codemirror_mode": {
    "name": "ipython",
    "version": 3
   },
   "file_extension": ".py",
   "mimetype": "text/x-python",
   "name": "python",
   "nbconvert_exporter": "python",
   "pygments_lexer": "ipython3",
   "version": "3.9.7"
  }
 },
 "nbformat": 4,
 "nbformat_minor": 4
}
